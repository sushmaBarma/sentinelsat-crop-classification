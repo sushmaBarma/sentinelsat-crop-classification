{
 "cells": [
  {
   "cell_type": "code",
   "execution_count": 16,
   "metadata": {},
   "outputs": [],
   "source": [
    "from sentinelsat import SentinelAPI, read_geojson, geojson_to_wkt\n",
    "from osgeo import gdal\n",
    "from rasterio import rio"
   ]
  },
  {
   "cell_type": "code",
   "execution_count": 2,
   "metadata": {},
   "outputs": [],
   "source": [
    "import pandas as pd"
   ]
  },
  {
   "cell_type": "code",
   "execution_count": 3,
   "metadata": {},
   "outputs": [],
   "source": [
    "from datetime import date"
   ]
  },
  {
   "cell_type": "code",
   "execution_count": 4,
   "metadata": {},
   "outputs": [],
   "source": [
    "import requests"
   ]
  },
  {
   "cell_type": "code",
   "execution_count": 5,
   "metadata": {},
   "outputs": [],
   "source": [
    "import threading\n",
    "import multiprocessing"
   ]
  },
  {
   "cell_type": "code",
   "execution_count": 6,
   "metadata": {},
   "outputs": [],
   "source": [
    "import os\n",
    "import shutil\n",
    "from glob import glob\n",
    "import zipfile"
   ]
  },
  {
   "cell_type": "code",
   "execution_count": 7,
   "metadata": {},
   "outputs": [],
   "source": [
    "USERNAME = [\"barmasushma\", \"barmasushma1\", \"SumanjaliDamarla\"]\n",
    "PASSWORD = [\"barmasushma\", \"barmasushma1\", \"D.Sumanjali1\"]\n",
    "API_SOURCE = \"https://scihub.copernicus.eu/dhus\"\n",
    "PROCESSING_LEVEL = [\"Level-1\", \"Level-2\"]\n",
    "SATELLITE = \"Sentinel-2\"\n",
    "STUDY_AREA = \"StudyArea.geojson\""
   ]
  },
  {
   "cell_type": "code",
   "execution_count": 8,
   "metadata": {},
   "outputs": [],
   "source": [
    "footprint = geojson_to_wkt(read_geojson(STUDY_AREA))"
   ]
  },
  {
   "cell_type": "code",
   "execution_count": 9,
   "metadata": {},
   "outputs": [],
   "source": [
    "api = []\n",
    "for i in range(len(USERNAME)):\n",
    "    api.append(SentinelAPI(USERNAME[i], PASSWORD[i], API_SOURCE))"
   ]
  },
  {
   "cell_type": "code",
   "execution_count": 10,
   "metadata": {},
   "outputs": [],
   "source": [
    "DAYS = {\n",
    "    \"jan\" : '31',\n",
    "    \"feb\" : '28',\n",
    "    \"mar\" : '31',\n",
    "    \"apr\" : '30',\n",
    "    \"may\" : '31',\n",
    "    \"jun\" : '30',\n",
    "    \"jul\" : '31',\n",
    "    \"aug\" : '31',\n",
    "    \"sep\" : '30',\n",
    "    \"oct\" : '31',\n",
    "    \"nov\" : '30',\n",
    "    \"dec\" : '31'\n",
    "}\n",
    "MONTHS = {\n",
    "    \"jan\" : '01',\n",
    "    \"feb\" : '02',\n",
    "    \"mar\" : '03',\n",
    "    \"apr\" : '04',\n",
    "    \"may\" : '05',\n",
    "    \"jun\" : '06',\n",
    "    \"jul\" : '07',\n",
    "    \"aug\" : '08',\n",
    "    \"sep\" : '09',\n",
    "    \"oct\" : '10',\n",
    "    \"nov\" : '11',\n",
    "    \"dec\" : '12'\n",
    "}"
   ]
  },
  {
   "cell_type": "code",
   "execution_count": 11,
   "metadata": {},
   "outputs": [],
   "source": [
    "NOV_BEGIN = \"20181101\"\n",
    "NOV_END = \"20181130\"\n",
    "\n",
    "DEC_BEGIN = \"20181201\"\n",
    "DEC_END = \"20181231\"\n",
    "\n",
    "JAN_BEGIN = \"20190101\"\n",
    "JAN_END = \"20190131\"\n",
    "\n",
    "FEB_BEGIN = \"20190201\"\n",
    "FEB_END = \"20190228\"\n",
    "\n",
    "MAR_BEGIN = \"20190301\"\n",
    "MAR_END = \"20190331\""
   ]
  },
  {
   "cell_type": "code",
   "execution_count": 12,
   "metadata": {},
   "outputs": [],
   "source": [
    "def queryForProducts(footprint, beg, end, sat):\n",
    "    return api[0].query(footprint, date=(beg, end),platformname=sat)"
   ]
  },
  {
   "cell_type": "code",
   "execution_count": 13,
   "metadata": {},
   "outputs": [],
   "source": [
    "def getLevelURLs(df):\n",
    "    level1 = []\n",
    "    for i in range(df.shape[0]):\n",
    "        if PROCESSING_LEVEL[0] in df[\"processinglevel\"][i]:\n",
    "            level1.append(df[\"link\"][i])\n",
    "\n",
    "    level2 = []\n",
    "    for i in range(df.shape[0]):\n",
    "        if PROCESSING_LEVEL[1] in df[\"processinglevel\"][i]:\n",
    "            level2.append(df[\"link\"][i])\n",
    "    \n",
    "    return level1, level2"
   ]
  },
  {
   "cell_type": "code",
   "execution_count": 14,
   "metadata": {},
   "outputs": [],
   "source": [
    "def curateLevelProducts(products, df, level):\n",
    "    keys = list(products.keys())\n",
    "    for i in range(df.shape[0]):\n",
    "        if level not in df[\"processinglevel\"][i]:\n",
    "            products.pop(keys[i])\n",
    "    return products"
   ]
  },
  {
   "cell_type": "code",
   "execution_count": 15,
   "metadata": {
    "scrolled": true
   },
   "outputs": [],
   "source": [
    "def downloadDataUsingThread(prod):\n",
    "    try:\n",
    "        t1 = threading.Thread(api[0].download_all(prod))\n",
    "        t1.start()\n",
    "        t1.join()\n",
    "    except AssertionError:\n",
    "        print(\"Download of specified products done\")\n",
    "    except:\n",
    "        print(\"Something went wrong\")"
   ]
  },
  {
   "cell_type": "code",
   "execution_count": null,
   "metadata": {},
   "outputs": [],
   "source": [
    "def createDataDirectory(month):\n",
    "    data_dir = os.getcwd()+\"\\\\data\\\\\"+month+\"_data\"\n",
    "    if not os.path.exists(data_dir):\n",
    "        os.mkdir(data_dir)\n",
    "    return data_dir\n",
    "def getDataDirectory(month):\n",
    "    return os.getcwd()+\"\\\\data\\\\\"+month+\"_data\"\n",
    "def createBackupDirectory(month):\n",
    "    backup = \"D:\\\\\"+month+\"_data\"\n",
    "    if not os.path.exists(backup):\n",
    "        os.mkdir(backup)\n",
    "    return backup\n",
    "def getBackupDirectory(month):\n",
    "    return \"D:\\\\\"+month+\"_data\""
   ]
  },
  {
   "cell_type": "code",
   "execution_count": null,
   "metadata": {},
   "outputs": [],
   "source": [
    "def listDataFiles(data_dir, ext):\n",
    "    paths = glob(data_dir+\"/*\"+ext)\n",
    "    fileNames = []\n",
    "    for path in paths:\n",
    "        fileNames.append(path.split('.')[0].split('\\\\')[-1])\n",
    "    return paths, fileNames"
   ]
  },
  {
   "cell_type": "code",
   "execution_count": null,
   "metadata": {},
   "outputs": [],
   "source": [
    "def checkAllFiles(data_det, fileNames):\n",
    "    product_ids = (list(data_det.keys()))\n",
    "    desired_files = []\n",
    "    for pid in product_ids:\n",
    "        desired_files.append(data_det[pid]['title'])\n",
    "    return sorted(desired_files) == sorted(fileNames)"
   ]
  },
  {
   "cell_type": "code",
   "execution_count": null,
   "metadata": {},
   "outputs": [],
   "source": [
    "def arrangeData(month, curr_path, data_det):\n",
    "    curr_paths, FileNames = listDataFiles(curr_path, \".zip\")\n",
    "    if not (checkAllFiles(data_det, FileNames)):\n",
    "        raise Exception(\"All files are not downloaded\")\n",
    "    else:\n",
    "        print(\"All files  Downloaded successfully\")\n",
    "    dst_dir = createDataDirectory(month)\n",
    "    backup = createBackupDirectory(month)\n",
    "    for path in curr_paths:\n",
    "        print(\"Backup files to \"+backup)\n",
    "        shutil.copy2(path, backup)\n",
    "        print(\"Moving files to \"+dst_dir)\n",
    "        shutil.move(path, dst_dir)\n",
    "    return dst_dir"
   ]
  },
  {
   "cell_type": "code",
   "execution_count": null,
   "metadata": {},
   "outputs": [],
   "source": [
    "def extractFiles(data_dir):\n",
    "    paths, fileNames = listDataFiles(data_dir, \".zip\")\n",
    "    l = len(paths)\n",
    "    i = 0\n",
    "    for path in paths:\n",
    "        print(str(i)+\"/\"+str(l)+\"  Extracting \"+path.split('.')[0].split('\\\\')[-1]+\"...\")\n",
    "        with zipfile.ZipFile(path, 'r') as zip_ref:\n",
    "            zip_ref.extractall(data_dir)"
   ]
  },
  {
   "cell_type": "code",
   "execution_count": null,
   "metadata": {},
   "outputs": [],
   "source": [
    "def cleanup(data_dir):\n",
    "    paths, fileNames = listDataFiles(data_dir, \".zip\")\n",
    "    l = len(paths)\n",
    "    i = 0\n",
    "    for path in paths:\n",
    "        print(str(i)+\"/\"+str(l)+\"Deleting \"+path.split('.')[0].split('\\\\')[-1]+\"...\")\n",
    "        os.remove(path)"
   ]
  },
  {
   "cell_type": "code",
   "execution_count": null,
   "metadata": {},
   "outputs": [],
   "source": [
    "nov_products = queryForProducts(footprint, NOV_BEGIN, NOV_END,SATELLITE)\n",
    "dec_products = queryForProducts(footprint, DEC_BEGIN, DEC_END,SATELLITE)\n",
    "jan_products = queryForProducts(footprint, JAN_BEGIN, JAN_END,SATELLITE)\n",
    "feb_products = queryForProducts(footprint, FEB_BEGIN, FEB_END,SATELLITE)\n",
    "mar_products = queryForProducts(footprint, MAR_BEGIN, MAR_END,SATELLITE)"
   ]
  },
  {
   "cell_type": "code",
   "execution_count": null,
   "metadata": {},
   "outputs": [],
   "source": [
    "nov_df = api[0].to_dataframe(nov_products)\n",
    "dec_df = api[0].to_dataframe(dec_products)\n",
    "jan_df = api[0].to_dataframe(jan_products)\n",
    "feb_df = api[0].to_dataframe(feb_products)\n",
    "mar_df = api[0].to_dataframe(mar_products)"
   ]
  },
  {
   "cell_type": "code",
   "execution_count": null,
   "metadata": {},
   "outputs": [],
   "source": [
    "nov_level1, nov_level2 = getLevelURLs(nov_df)\n",
    "dec_level1, dec_level2 = getLevelURLs(dec_df)\n",
    "jan_level1, jan_level2 = getLevelURLs(jan_df)\n",
    "feb_level1, feb_level2 = getLevelURLs(feb_df)\n",
    "mar_level1, mar_level2 = getLevelURLs(mar_df)"
   ]
  },
  {
   "cell_type": "code",
   "execution_count": null,
   "metadata": {},
   "outputs": [],
   "source": [
    "nov_data_det = curateLevelProducts(nov_products, nov_df, PROCESSING_LEVEL[1])\n",
    "dec_data_det = curateLevelProducts(dec_products, dec_df, PROCESSING_LEVEL[1])\n",
    "jan_data_det = curateLevelProducts(jan_products, jan_df, PROCESSING_LEVEL[1])\n",
    "feb_data_det = curateLevelProducts(feb_products, feb_df, PROCESSING_LEVEL[1])\n",
    "mar_data_det = curateLevelProducts(mar_products, mar_df, PROCESSING_LEVEL[1])"
   ]
  },
  {
   "cell_type": "code",
   "execution_count": null,
   "metadata": {},
   "outputs": [],
   "source": [
    "months = [\n",
    "    \"Nov\", \"Dec\", \"Jan\", \"Feb\", \"Mar\"\n",
    "]\n",
    "levelCount = [\n",
    "    [nov_df.shape[0], len(nov_level1), len(nov_level2)],\n",
    "    [dec_df.shape[0], len(dec_level1), len(dec_level2)],\n",
    "    [jan_df.shape[0], len(jan_level1), len(jan_level2)],\n",
    "    [feb_df.shape[0], len(feb_level1), len(feb_level2)],\n",
    "    [mar_df.shape[0], len(mar_level1), len(mar_level2)]\n",
    "]\n",
    "\n",
    "print(\"      Total  L1  L2\")\n",
    "for i in range(len(months)):\n",
    "    print(months[i] + \"   \" + str(levelCount[i][0]) + \"     \" + str(levelCount[i][1]) + \"  \" + str(levelCount[i][2]))"
   ]
  },
  {
   "cell_type": "code",
   "execution_count": null,
   "metadata": {},
   "outputs": [],
   "source": [
    "downloadDataUsingThread(nov_data_det)\n",
    "nov_data_dir = arrangeData(\"nov\", os.getcwd(), nov_data_det)"
   ]
  },
  {
   "cell_type": "code",
   "execution_count": null,
   "metadata": {},
   "outputs": [],
   "source": [
    "downloadDataUsingThread(dec_data_det)\n",
    "dec_data_dir = arrangeData(\"dec\", os.getcwd(), dec_data_det)"
   ]
  },
  {
   "cell_type": "code",
   "execution_count": null,
   "metadata": {},
   "outputs": [],
   "source": [
    "downloadDataUsingThread(jan_data_det)\n",
    "jan_data_dir = arrangeData(\"jan\", os.getcwd(), jan_data_det)"
   ]
  },
  {
   "cell_type": "code",
   "execution_count": null,
   "metadata": {},
   "outputs": [],
   "source": [
    "downloadDataUsingThread(feb_data_det)\n",
    "feb_data_dir = arrangeData(\"feb\", os.getcwd(), feb_data_det)"
   ]
  },
  {
   "cell_type": "code",
   "execution_count": null,
   "metadata": {},
   "outputs": [],
   "source": [
    "downloadDataUsingThread(mar_data_det)\n",
    "mar_data_dir = arrangeData(\"mar\", os.getcwd(), mar_data_det)"
   ]
  },
  {
   "cell_type": "code",
   "execution_count": null,
   "metadata": {
    "scrolled": true
   },
   "outputs": [],
   "source": [
    "extractFiles(nov_data_dir)\n",
    "extractFiles(dec_data_dir)\n",
    "extractFiles(jan_data_dir)\n",
    "extractFiles(feb_data_dir)\n",
    "extractFiles(mar_data_dir)"
   ]
  },
  {
   "cell_type": "code",
   "execution_count": null,
   "metadata": {},
   "outputs": [],
   "source": [
    "nov_data_dir = getDataDirectory(\"nov\")\n",
    "extractFiles(nov_data_dir)\n",
    "cleanup(nov_data_dir)"
   ]
  },
  {
   "cell_type": "code",
   "execution_count": null,
   "metadata": {},
   "outputs": [],
   "source": [
    "dec_data_dir = getDataDirectory(\"dec\")\n",
    "extractFiles(dec_data_dir)\n",
    "cleanup(dec_data_dir)"
   ]
  },
  {
   "cell_type": "code",
   "execution_count": null,
   "metadata": {},
   "outputs": [],
   "source": [
    "jan_data_dir = getDataDirectory(\"jan\")\n",
    "extractFiles(jan_data_dir)\n",
    "cleanup(jan_data_dir)"
   ]
  },
  {
   "cell_type": "code",
   "execution_count": null,
   "metadata": {},
   "outputs": [],
   "source": [
    "feb_data_dir = getDataDirectory(\"feb\")\n",
    "extractFiles(feb_data_dir)\n",
    "cleanup(feb_data_dir)"
   ]
  },
  {
   "cell_type": "code",
   "execution_count": null,
   "metadata": {},
   "outputs": [],
   "source": [
    "mar_data_dir = getDataDirectory(\"mar\")\n",
    "extractFiles(mar_data_dir)\n",
    "cleanup(mar_data_dir)"
   ]
  },
  {
   "cell_type": "code",
   "execution_count": null,
   "metadata": {},
   "outputs": [],
   "source": [
    "#stack, mosaic and clip\n"
   ]
  },
  {
   "cell_type": "code",
   "execution_count": null,
   "metadata": {},
   "outputs": [],
   "source": []
  }
 ],
 "metadata": {
  "kernelspec": {
   "display_name": "Python 3",
   "language": "python",
   "name": "python3"
  },
  "language_info": {
   "codemirror_mode": {
    "name": "ipython",
    "version": 3
   },
   "file_extension": ".py",
   "mimetype": "text/x-python",
   "name": "python",
   "nbconvert_exporter": "python",
   "pygments_lexer": "ipython3",
   "version": "3.7.6"
  }
 },
 "nbformat": 4,
 "nbformat_minor": 2
}

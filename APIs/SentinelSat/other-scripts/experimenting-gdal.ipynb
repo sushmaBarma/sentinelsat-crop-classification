{
 "cells": [
  {
   "cell_type": "code",
   "execution_count": 1,
   "metadata": {},
   "outputs": [],
   "source": [
    "from osgeo import gdal\n",
    "import os"
   ]
  },
  {
   "cell_type": "code",
   "execution_count": 2,
   "metadata": {},
   "outputs": [],
   "source": [
    "src=os.getcwd()+\"\\\\data\\\\dec_data\\\\S2A_MSIL2A_20181215T051211_N0211_R019_T44PLC_20181215T073500.SAFE\\\\GRANULE\\\\L2A_T44PLC_A018177_20181215T051910\\\\IMG_DATA\\\\R10m\\\\T44PLC_20181215T051211_B02_10m.jp2\"\n",
    "dst=os.getcwd()+\"\\\\T44PLC_20181215T051211_B02_10m.GTiff\""
   ]
  },
  {
   "cell_type": "code",
   "execution_count": 9,
   "metadata": {},
   "outputs": [],
   "source": [
    "src=os.getcwd()+\"\\\\data\\\\dec_data\\\\S2A_MSIL2A_20181215T051211_N0211_R019_T44PLC_20181215T073500.SAFE\\\\GRANULE\\\\L2A_T44PLC_A018177_20181215T051910\\\\IMG_DATA\\\\R10m\\\\T44PLC_20181215T051211_B02_10m.jp2\"\n",
    "dst=os.getcwd()+\"\\\\T44PLC_20181215T051211_B02_10m.tif\""
   ]
  },
  {
   "cell_type": "code",
   "execution_count": 4,
   "metadata": {},
   "outputs": [],
   "source": [
    "src_ds = gdal.Open(src)"
   ]
  },
  {
   "cell_type": "code",
   "execution_count": 5,
   "metadata": {},
   "outputs": [
    {
     "name": "stdout",
     "output_type": "stream",
     "text": [
      "None\n"
     ]
    }
   ],
   "source": [
    "print(src_ds)"
   ]
  },
  {
   "cell_type": "code",
   "execution_count": 6,
   "metadata": {},
   "outputs": [],
   "source": [
    "driver = gdal.GetDriverByName(\"GTiff\")"
   ]
  },
  {
   "cell_type": "code",
   "execution_count": null,
   "metadata": {},
   "outputs": [],
   "source": [
    "dst_ds = driver.CreateCopy( os.getcwd(), src_ds, 0 )"
   ]
  },
  {
   "cell_type": "code",
   "execution_count": 10,
   "metadata": {},
   "outputs": [
    {
     "data": {
      "text/plain": [
       "1"
      ]
     },
     "execution_count": 10,
     "metadata": {},
     "output_type": "execute_result"
    }
   ],
   "source": [
    "os.system(\"gdal_translate \" + src + \" \" +  dst)"
   ]
  },
  {
   "cell_type": "code",
   "execution_count": null,
   "metadata": {},
   "outputs": [],
   "source": [
    "os.getcwd()"
   ]
  },
  {
   "cell_type": "code",
   "execution_count": null,
   "metadata": {},
   "outputs": [],
   "source": [
    "dst"
   ]
  },
  {
   "cell_type": "code",
   "execution_count": null,
   "metadata": {},
   "outputs": [],
   "source": []
  }
 ],
 "metadata": {
  "kernelspec": {
   "display_name": "Python 3",
   "language": "python",
   "name": "python3"
  },
  "language_info": {
   "codemirror_mode": {
    "name": "ipython",
    "version": 3
   },
   "file_extension": ".py",
   "mimetype": "text/x-python",
   "name": "python",
   "nbconvert_exporter": "python",
   "pygments_lexer": "ipython3",
   "version": "3.7.4"
  }
 },
 "nbformat": 4,
 "nbformat_minor": 2
}
